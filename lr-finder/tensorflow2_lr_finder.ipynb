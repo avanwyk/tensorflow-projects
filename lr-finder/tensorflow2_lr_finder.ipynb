{
 "cells": [
  {
   "cell_type": "code",
   "execution_count": 1,
   "metadata": {
    "ExecuteTime": {
     "end_time": "2019-07-27T10:54:29.069326Z",
     "start_time": "2019-07-27T10:54:28.067067Z"
    },
    "colab": {},
    "colab_type": "code",
    "id": "0trJmd6DjqBZ"
   },
   "outputs": [],
   "source": [
    "import tensorflow as tf\n",
    "\n",
    "%load_ext autoreload\n",
    "%autoreload 2"
   ]
  },
  {
   "cell_type": "code",
   "execution_count": 2,
   "metadata": {
    "ExecuteTime": {
     "end_time": "2019-07-27T10:54:29.677071Z",
     "start_time": "2019-07-27T10:54:29.071008Z"
    },
    "colab": {},
    "colab_type": "code",
    "id": "7FP5258xjs-v"
   },
   "outputs": [],
   "source": [
    "fashion_mnist = tf.keras.datasets.fashion_mnist\n",
    "\n",
    "(x_train, y_train), (x_valid, y_valid) = fashion_mnist.load_data()\n",
    "x_train, x_valid = x_train / 255.0, x_valid / 255.0\n",
    "\n",
    "x_train = x_train[..., tf.newaxis]\n",
    "x_valid = x_valid[..., tf.newaxis]\n",
    "\n",
    "train_ds = tf.data.Dataset.from_tensor_slices((x_train, y_train)).shuffle(10000).batch(32)\n",
    "valid_ds = tf.data.Dataset.from_tensor_slices((x_valid, y_valid)).batch(32)"
   ]
  },
  {
   "cell_type": "code",
   "execution_count": 3,
   "metadata": {
    "ExecuteTime": {
     "end_time": "2019-07-27T10:54:29.724909Z",
     "start_time": "2019-07-27T10:54:29.680276Z"
    },
    "colab": {},
    "colab_type": "code",
    "id": "h3IKyzTCDNGo"
   },
   "outputs": [],
   "source": [
    "from tensorflow.keras.layers import Conv2D, MaxPool2D, Flatten, Dense, Dropout\n",
    "\n",
    "def build_model():\n",
    "    return tf.keras.models.Sequential([\n",
    "        Conv2D(32, 3, activation='relu'),\n",
    "        MaxPool2D(),\n",
    "        Flatten(),\n",
    "        Dense(128, activation='relu'),\n",
    "        Dropout(0.1),\n",
    "        Dense(10, activation='softmax')\n",
    "    ])"
   ]
  },
  {
   "cell_type": "code",
   "execution_count": 4,
   "metadata": {
    "ExecuteTime": {
     "end_time": "2019-07-27T10:54:29.875281Z",
     "start_time": "2019-07-27T10:54:29.726407Z"
    }
   },
   "outputs": [],
   "source": [
    "from lr_finder import LRFinder"
   ]
  },
  {
   "cell_type": "code",
   "execution_count": 5,
   "metadata": {
    "ExecuteTime": {
     "end_time": "2019-07-27T10:54:32.536187Z",
     "start_time": "2019-07-27T10:54:29.876427Z"
    },
    "colab": {},
    "colab_type": "code",
    "id": "qStOSMoInovt",
    "scrolled": true
   },
   "outputs": [
    {
     "name": "stderr",
     "output_type": "stream",
     "text": [
      "WARNING: Logging before flag parsing goes to stderr.\n",
      "W0727 12:54:30.600380 139643028154176 deprecation.py:323] From /home/avanwyk/Tools/anaconda/envs/ml-env/lib/python3.7/site-packages/tensorflow/python/ops/math_grad.py:1250: add_dispatch_support.<locals>.wrapper (from tensorflow.python.ops.array_ops) is deprecated and will be removed in a future version.\n",
      "Instructions for updating:\n",
      "Use tf.where in 2.0, which has the same broadcast rule as np.where\n"
     ]
    },
    {
     "data": {
      "image/png": "[encoded data removed]",
      "text/plain": [
       "<Figure size 432x288 with 1 Axes>"
      ]
     },
     "metadata": {
      "needs_background": "light"
     },
     "output_type": "display_data"
    }
   ],
   "source": [
    "lr_finder = LRFinder()\n",
    "model = build_model()\n",
    "model.compile(optimizer='adam', loss='sparse_categorical_crossentropy')\n",
    "_ = model.fit(train_ds, epochs=5, callbacks=[lr_finder], verbose=False)\n",
    "lr_finder.plot()"
   ]
  },
  {
   "cell_type": "code",
   "execution_count": 6,
   "metadata": {
    "ExecuteTime": {
     "end_time": "2019-07-27T10:54:32.563918Z",
     "start_time": "2019-07-27T10:54:32.537336Z"
    },
    "colab": {},
    "colab_type": "code",
    "id": "ofGV6cHFoXqQ"
   },
   "outputs": [],
   "source": [
    "model = build_model() # reinitialize model\n",
    "adam = tf.optimizers.Adam(1e-3)\n",
    "model.compile(optimizer=adam, loss='sparse_categorical_crossentropy', metrics=['accuracy'])"
   ]
  },
  {
   "cell_type": "code",
   "execution_count": 7,
   "metadata": {
    "ExecuteTime": {
     "end_time": "2019-07-27T10:55:08.600058Z",
     "start_time": "2019-07-27T10:54:32.565481Z"
    },
    "colab": {},
    "colab_type": "code",
    "id": "F7dTAzgHDUh7"
   },
   "outputs": [
    {
     "name": "stdout",
     "output_type": "stream",
     "text": [
      "Epoch 1/5\n",
      "1875/1875 [==============================] - 8s 4ms/step - loss: 0.3964 - accuracy: 0.8042 - val_loss: 0.3034 - val_accuracy: 0.8894\n",
      "Epoch 2/5\n",
      "1875/1875 [==============================] - 7s 4ms/step - loss: 0.2684 - accuracy: 0.8973 - val_loss: 0.2604 - val_accuracy: 0.9042\n",
      "Epoch 3/5\n",
      "1875/1875 [==============================] - 7s 4ms/step - loss: 0.2233 - accuracy: 0.9141 - val_loss: 0.2463 - val_accuracy: 0.9106\n",
      "Epoch 4/5\n",
      "1875/1875 [==============================] - 7s 4ms/step - loss: 0.1922 - accuracy: 0.9266 - val_loss: 0.2410 - val_accuracy: 0.9140\n",
      "Epoch 5/5\n",
      "1875/1875 [==============================] - 7s 4ms/step - loss: 0.1643 - accuracy: 0.9378 - val_loss: 0.2443 - val_accuracy: 0.9153\n"
     ]
    }
   ],
   "source": [
    "_ = model.fit(train_ds, validation_data=valid_ds, epochs=5, verbose=True)"
   ]
  },
  {
   "cell_type": "code",
   "execution_count": 8,
   "metadata": {
    "ExecuteTime": {
     "end_time": "2019-07-27T10:55:09.193602Z",
     "start_time": "2019-07-27T10:55:08.601259Z"
    }
   },
   "outputs": [
    {
     "name": "stdout",
     "output_type": "stream",
     "text": [
      "313/313 [==============================] - 1s 2ms/step - loss: 0.2443 - accuracy: 0.9153\n"
     ]
    },
    {
     "data": {
      "text/plain": [
       "[0.24434955244937454, 0.9153]"
      ]
     },
     "execution_count": 8,
     "metadata": {},
     "output_type": "execute_result"
    }
   ],
   "source": [
    "model.evaluate(valid_ds)"
   ]
  },
  {
   "cell_type": "code",
   "execution_count": null,
   "metadata": {},
   "outputs": [],
   "source": []
  }
 ],
 "metadata": {
  "colab": {
   "collapsed_sections": [],
   "name": "tf2 beginner.ipynb",
   "private_outputs": true,
   "provenance": [],
   "toc_visible": true,
   "version": "0.3.2"
  },
  "kernelspec": {
   "display_name": "Python 3",
   "language": "python",
   "name": "python3"
  },
  "language_info": {
   "codemirror_mode": {
    "name": "ipython",
    "version": 3
   },
   "file_extension": ".py",
   "mimetype": "text/x-python",
   "name": "python",
   "nbconvert_exporter": "python",
   "pygments_lexer": "ipython3",
   "version": "3.7.3"
  },
  "pycharm": {
   "stem_cell": {
    "cell_type": "raw",
    "metadata": {
     "collapsed": false
    },
    "source": []
   }
  },
  "toc": {
   "base_numbering": 1,
   "nav_menu": {},
   "number_sections": true,
   "sideBar": true,
   "skip_h1_title": false,
   "title_cell": "Table of Contents",
   "title_sidebar": "Contents",
   "toc_cell": false,
   "toc_position": {},
   "toc_section_display": true,
   "toc_window_display": false
  }
 },
 "nbformat": 4,
 "nbformat_minor": 1
}
